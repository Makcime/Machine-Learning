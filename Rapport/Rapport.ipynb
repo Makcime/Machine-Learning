{
 "metadata": {
  "name": ""
 },
 "nbformat": 3,
 "nbformat_minor": 0,
 "worksheets": [
  {
   "cells": [
    {
     "cell_type": "markdown",
     "metadata": {},
     "source": [
      "[ArchiOrdis] Consignes rapport\n",
      "\n",
      "Bonjour,\n",
      "\n",
      "Voici, dans les grandes lignes, la structure demand\u00e9e pour votre rapport du cours d'Architecture des Ordinateurs :\n",
      "\n",
      "    Partie 1 (Algorithmes de recherche) : Quel logiciel/langage utilis\u00e9, description des algorithmes impl\u00e9ment\u00e9s de mani\u00e8re tr\u00e8s succincte, description de l'application choisie pour tester vos algorithmes et comparaison des r\u00e9sultats de ces algorithmes en termes de qualit\u00e9 du chemin choisi, de rapidit\u00e9 de l'algorithme, de m\u00e9moire utilis\u00e9e...\n",
      "    Partie 2 (jeux) : Quel logiciel/langage utilis\u00e9, description du jeu choisi et de la mani\u00e8re dont vous l'avez impl\u00e9ment\u00e9 (les choix d'impl\u00e9mentation tels que la fonction d'\u00e9valuation choisie, la profondeur utilis\u00e9e dans l'arbre, les optimisations mises en place, la flexibilit\u00e9 \u00e9ventuelle de votre algorithme...)\n",
      "    Partie 3 (Contraintes) : Quel logiciel/langage utilis\u00e9, quelle application choisie, quel algorithme utilis\u00e9, quelle biblioth\u00e8que utilis\u00e9e si vous en avez utilis\u00e9e une.\n",
      "    Exercices annexes : R\u00e9ponses aux exercices\n",
      "    Bibliographie \u00e9ventuelle: si vous vous \u00eates inspir\u00e9s d'exemples existants ou de librairies particuli\u00e8res, d'interfaces graphiques existantes, n'oubliez pas de les mentionner dans votre bibliographie\n",
      "\n",
      "Cordialement,\n",
      "\n",
      "A. Degeest"
     ]
    },
    {
     "cell_type": "markdown",
     "metadata": {},
     "source": [
      "# Partie 1 : Les algorithmes de recherche\n",
      "## Outils:\n",
      "D\u00e9veloppement en c++ avec les librairies openframeworks.\n",
      "* [OpenFrameworks](http://openframeworks.cc/)\n",
      "* []()\n",
      "\n",
      "## Application choisie\n",
      "\n",
      "## R\u00e9sultats"
     ]
    },
    {
     "cell_type": "markdown",
     "metadata": {},
     "source": [
      "#Partie 2 : Jeux du moulin\n",
      "\n",
      "## Outils\n",
      "\n",
      "## Description du jeu\n",
      "```\n",
      "    From Wikipedia\n",
      "```\n",
      "### Mat\u00e9riel\n",
      "\n",
      "* Un tablier form\u00e9 de trois carr\u00e9s imbriqu\u00e9s offrant vingt-quatre intersections\n",
      "* neuf pions blancs\n",
      "* neuf pions noirs\n",
      "\n",
      "![Le tablier de jeu](plateau.png)\n",
      "\n",
      "\n",
      "\n",
      "### R\u00e8gles du jeu\n",
      "Le jeu se d\u00e9roule en deux temps : la pose puis le mouvement.\n",
      "\n",
      "1. **La pose** :\n",
      "    tant qu'il en poss\u00e8de encore, chaque joueur place \u00e0 tour de r\u00f4le un pion sur une intersection libre.\n",
      "\n",
      "2. **Le mouvement** : \n",
      "    lorsqu'il n'a plus de pion \u00e0 poser, chaque joueur fait glisser l'un de ses pions vers une intersection voisine libre en suivant un chemin pr\u00e9vu.\n",
      "\n",
      "\u00c0 tout moment du jeu, celui qui r\u00e9alise un moulin, c'est-\u00e0-dire l'alignement de trois de ses pions, peut capturer un pion adverse quelconque parmi ceux n'appartenant pas \u00e0 un moulin.\n",
      "\n",
      "Le jeu s'ach\u00e8ve quand un joueur n'a plus que deux pions ou ne peut plus jouer, il est alors le perdant. Une r\u00e8gle optionnelle donne une seconde chance \u00e0 celui qui ne poss\u00e8de plus que trois pions : il peut alors se d\u00e9placer en sautant o\u00f9 il veut.\n",
      "Le \u00ab double moulin \u00bb\n",
      "\n",
      "Dans la configuration ci-contre, la position des rouges est tr\u00e8s avantageuse. On y observe la situation du \u00ab double moulin \u00bb puisque l'ouverture par le bas du moulin de droite forme aussit\u00f4t un autre moulin, mouvement qui peut se r\u00e9p\u00e9ter et offre \u00e0 chaque fois un pion bleu aux rouges.\n",
      "\n",
      "Les pions bleus de gauche auraient besoin de deux temps pour constituer un moulin : monter l'un puis glisser un autre \u00e0 sa place. Certes, les pions bleus de droite sont intouchables car align\u00e9s, mais, au moindre mouvement de ce c\u00f4t\u00e9, le moulin sera d\u00e9truit.\n"
     ]
    },
    {
     "cell_type": "markdown",
     "metadata": {},
     "source": [
      "# Partie 3 : Programmation par contraintes\n",
      "\n",
      "## Language et librairies\n",
      "\n",
      "Pour cette partie pratique, le language utilis\u00e9 sera Python. Le module python-constraint nous permettra de mod\u00e9liser des probl\u00e8mes sous forme de variables appartenant a des domaines de valeurs et des contraintes sur ces variables afin de r\u00e9soudres ces probl\u00e8me.\n",
      "\n",
      "## Applications\n",
      "Parmis les \u00e9nonc\u00e9s propos\u00e9s, nous allons en r\u00e9soudre deux. Le probl\u00e8me du zebre, et deux exemples de crypto-arithm\u00e9tique (SEND + MORE = MONEY && DONALD + GERALD = ROBERT)"
     ]
    },
    {
     "cell_type": "markdown",
     "metadata": {},
     "source": [
      "### Le probleme du zebre\n",
      "\n",
      "On s'int\u00e9resse au probl\u00e8me suivant, pos\u00e9 initialement par Lewis Caroll :\n",
      "\n",
      "Cinq maisons cons\u00e9cutives, de couleurs diff\u00e9rentes, sont habit\u00e9es par des hommes de diff\u00e9rentes nationalit\u00e9s. Chacun poss\u00e8de un animal diff\u00e9rent, a une boisson pr\u00e9f\u00e9r\u00e9e diff\u00e9rente et fume des cigarettes diff\u00e9rentes. De plus, on sait que :\n",
      "\n",
      "* Le norv\u00e9gien habite la premi\u00e8re maison,\n",
      "* La maison \u00e0 cot\u00e9 de celle du norv\u00e9gien est bleue,\n",
      "* L'habitant de la troisi\u00e8me maison boit du lait,\n",
      "* L'anglais habite la maison rouge,\n",
      "* L'habitant de la maison verte boit du caf\u00e9,\n",
      "* L'habitant de la maison jaune fume des kools,\n",
      "* La maison blanche se trouve juste apr\u00e8s la verte,\n",
      "* L'espagnol a un chien,\n",
      "* L'ukrainien boit du th\u00e9,\n",
      "* Le japonais fume des cravens,\n",
      "* Le fumeur de old golds a un escargot,\n",
      "* Le fumeur de gitanes boit du vin,\n",
      "* Le voisin du fumeur de Chesterfields a un renard,\n",
      "* Le voisin du fumeur de kools a un cheval.\n",
      "\n",
      "Qui boit de l'eau ? A qui appartient le z\u00e8bre ?\n"
     ]
    },
    {
     "cell_type": "markdown",
     "metadata": {},
     "source": [
      "#### Modelisation du probl\u00e8me\n",
      "\n",
      "La premi\u00e8re \u00e9tape est d'identifier les inconnues du probl\u00e8me (les variables), les contraintes qui leur sont appliqu\u00e9es ainsi que leur domaine de valeur.\n",
      "\n",
      "Nous pouvons d\u00e9terminer le domaine de valeur comme les num\u00e9ro de maison (de 1 \u00e0 5) et les variables comme les caract\u00e9ristiques de ces maison (nationalit\u00e9, marque de cigarette, animal de compagnie, couleur des mur et boisson pr\u00e9f\u00e9r\u00e9e !)\n",
      " \n",
      "Il faut ensuite d\u00e9finir une contrainte pour chacune des assertions de l'\u00e9nonc\u00e9. Il faut \u00e9galement ajouter des contraintes pour sp\u00e9cifier qu'on ne peut avoir plusieurs maisons de la m\u00eame couleur, ni plusieurs maisons avec le m\u00eame animal, ..."
     ]
    },
    {
     "cell_type": "markdown",
     "metadata": {},
     "source": [
      "### Send More Money !\n",
      "On consid\u00e8re l'addition suivante :\n",
      "```\n",
      "       SEND\n",
      "     + MORE\n",
      "    -------\n",
      "    = MONEY\n",
      "```\n",
      "o\u00f9 chaque lettre repr\u00e9sente un chiffre diff\u00e9rent (compris entre 0 et 9). On souhaite connaitre la valeur de chaque lettre, sachant que la premi\u00e8re lettre de chaque mot repr\u00e9sente un chiffre diff\u00e9rent de 0."
     ]
    },
    {
     "cell_type": "markdown",
     "metadata": {},
     "source": [
      "#### Mod\u00e9lisation\n",
      "\n",
      "Pour mod\u00e9liser ce probl\u00e8me sous la forme d'un CSP, il s'agit d'identifier les variables (les inconnues du probl\u00e8me), les domaines de valeur de ces variables, et les contraintes existant entre ces variables.\n",
      "\n",
      "Ici, les inconnues du probl\u00e8me sont les valeurs des lettres S, E, N, D, M, O, R et Y. On a donc 8 variables, chacune pouvant prendre une valeur comprise entre 0 et 9, sauf S et M qui ne peuvent \u00eatre \u00e9gales \u00e0 0 puisqu'elles sont en d\u00e9but de mot.\n",
      "\n",
      "Il s'agit ensuite de d\u00e9finir les contraintes. Une premi\u00e8re possibilit\u00e9 consiste \u00e0 d\u00e9finir une seule contrainte \"traduisant\" l'\u00e9quation SEND + MORE = MONEY. Pour cela, il s'agit de reconstituer le nombre associ\u00e9 \u00e0 chaque mot \u00e0 partir des valeurs des lettres le composant (par exemple, le nombre associ\u00e9 au mot SEND est \u00e9gal \u00e0 D + 10N + 100E + 1000S).\n",
      "\n",
      "Une autre possibilit\u00e9, pour d\u00e9finir les contraintes, consiste \u00e0 poser les contraintes \"verticalement\", comme quand on fait une addition \u00e0 la main :\n",
      "\n",
      "* la somme des chiffres des unit\u00e9s des nombres \u00e0 additionner est \u00e9gale au chiffre des unit\u00e9 du nombre r\u00e9sultat, plus dix fois la retenue ;\n",
      "* la somme de la retenue des unit\u00e9s et des chiffres des dizaines des nombres \u00e0 additionner est \u00e9gale au chiffre des dizaines du nombre r\u00e9sultat, plus dix fois la retenue :\n",
      "    etc...\n",
      "\n",
      "Avec une telle mod\u00e9lisation, il faut rajouter 3 variables R1, R2 et R3 correspondant aux retenues successives, et pouvant prendre pour valeur 0 ou 1 (car la somme de deux chiffres compris entre 0 et 9 est toujours inf\u00e9rieure ou \u00e9gale \u00e0 18).\n",
      "\n",
      "Il faut par ailleurs ajouter une contrainte pour exprimer le fait que toutes les lettres doivent prendre des valeurs diff\u00e9rentes.."
     ]
    },
    {
     "cell_type": "markdown",
     "metadata": {},
     "source": [
      "#### solution\n",
      "\n",
      "```\n",
      "   SEND \t    9567\n",
      " + MORE \t  + 1085\n",
      "------- \t -------\n",
      "= MONEY \t = 10652\n",
      "```"
     ]
    },
    {
     "cell_type": "markdown",
     "metadata": {},
     "source": [
      "### Donald + gerald = robert?\n",
      "\n",
      "#### Solution\n",
      "\n",
      "```\n",
      "  DONALD \t   526485\n",
      "+ GERALD \t + 197485\n",
      "-------- \t --------\n",
      "= ROBERT \t = 723970\n",
      "```"
     ]
    },
    {
     "cell_type": "markdown",
     "metadata": {},
     "source": [
      "### Conclusions"
     ]
    },
    {
     "cell_type": "markdown",
     "metadata": {},
     "source": [
      "# Bibliographie\n",
      "* [OpenFrameworks](http://openframeworks.cc/) : http://openframeworks.cc/\n",
      "* [python-constraint](http://labix.org/python-constraint) : http://labix.org/python-constraint\n",
      "* [R\u00e8gles du jeu du moulin](http://fr.wikipedia.org/wiki/Jeu_du_moulin) : http://fr.wikipedia.org/wiki/Jeu_du_moulin\n",
      "* [\u00c9nonc\u00e9s des probl\u00e8mes de programmation par cntrainte](http://liris.cnrs.fr/csolnon/Site-PPC/session2/e-miage-ppc-sess2.htm) : http://liris.cnrs.fr/csolnon/Site-PPC/session2/e-miage-ppc-sess2.htm\n",
      "* []()\n",
      "* []()\n",
      "* []()\n",
      "* []()\n"
     ]
    },
    {
     "cell_type": "code",
     "collapsed": false,
     "input": [],
     "language": "python",
     "metadata": {},
     "outputs": [],
     "prompt_number": 10
    }
   ],
   "metadata": {}
  }
 ]
}