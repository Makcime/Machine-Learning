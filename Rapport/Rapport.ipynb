{
 "metadata": {
  "name": ""
 },
 "nbformat": 3,
 "nbformat_minor": 0,
 "worksheets": [
  {
   "cells": [
    {
     "cell_type": "markdown",
     "metadata": {},
     "source": [
      "[ArchiOrdis] Consignes rapport\n",
      "\n",
      "Bonjour,\n",
      "\n",
      "Voici, dans les grandes lignes, la structure demand\u00e9e pour votre rapport du cours d'Architecture des Ordinateurs :\n",
      "\n",
      "    Partie 1 (Algorithmes de recherche) : Quel logiciel/langage utilis\u00e9, description des algorithmes impl\u00e9ment\u00e9s de mani\u00e8re tr\u00e8s succincte, description de l'application choisie pour tester vos algorithmes et comparaison des r\u00e9sultats de ces algorithmes en termes de qualit\u00e9 du chemin choisi, de rapidit\u00e9 de l'algorithme, de m\u00e9moire utilis\u00e9e...\n",
      "    Partie 2 (jeux) : Quel logiciel/langage utilis\u00e9, description du jeu choisi et de la mani\u00e8re dont vous l'avez impl\u00e9ment\u00e9 (les choix d'impl\u00e9mentation tels que la fonction d'\u00e9valuation choisie, la profondeur utilis\u00e9e dans l'arbre, les optimisations mises en place, la flexibilit\u00e9 \u00e9ventuelle de votre algorithme...)\n",
      "    Partie 3 (Contraintes) : Quel logiciel/langage utilis\u00e9, quelle application choisie, quel algorithme utilis\u00e9, quelle biblioth\u00e8que utilis\u00e9e si vous en avez utilis\u00e9e une.\n",
      "    Exercices annexes : R\u00e9ponses aux exercices\n",
      "    Bibliographie \u00e9ventuelle: si vous vous \u00eates inspir\u00e9s d'exemples existants ou de librairies particuli\u00e8res, d'interfaces graphiques existantes, n'oubliez pas de les mentionner dans votre bibliographie\n",
      "\n",
      "Cordialement,\n",
      "\n",
      "A. Degeest"
     ]
    },
    {
     "cell_type": "markdown",
     "metadata": {},
     "source": [
      "# Partie 1 : Recheche basique, heuristique et optimale\n",
      "\n",
      "## Application\n",
      "L'exemple choisi pour l'iml\u00e9mentation des diff\u00e9rents algorithmes est une recheche de chemin sur une carte. La carte est repr\u00e9sent\u00e9e sous forme de graphe, o\u00f9 les sommets repr\u00e9sentent des villes et les ar\u00eates sont les chemins les reliant. Par mesure de facilit\u00e9 d'impl\u00e9mentation, l'exemple pr\u00e9sent\u00e9 est fictif mais repr\u00e9sentatif d'une situation r\u00e9ele.\n",
      "\n",
      "(Il peut d'ailleur \u00eatre adapt\u00e9 \u00e0 une situation r\u00e9ele en remla\u00e7ant notre graphe par la repr\u00e9sentation d'une vraie carte, ce qui demandrait beaucoup de travaille pour obtenir une repr\u00e9sentation juste de la r\u00e9alit\u00e9, ce qui n'est pas le but de l'exercice, mais bien l'utilisation et la comparaison des algorithmes de recherche).\n",
      "\n",
      "## Choix des co\u00fbt et heuristiques\n",
      "\n",
      "L'heuristique attribu\u00e9e \u00e0 un sommet est la distance \u00e0 vol d'oiseau jusqu'au but selectionn\u00e9.\n",
      "Le co\u00fbt attribu\u00e9 \u00e0 un chemin, et sa longueur r\u00e9elle.\n",
      "\n",
      "Cest deux mesure sont exprim\u00e9es en pixels et sont calcul\u00e9e automatiquement \u00e0 l'initialisation. Cela permet un dynamisme complet du graph en terme de choix de d\u00e9part et d'arriv\u00e9e, et une automatisation de test sur les algorithmes, en faisant varier ces deux points.\n",
      "\n",
      "## Outils de d\u00e9veloppement:\n",
      "Le langage utilis\u00e9 pour la programmation des algotihmes est le c++\n",
      "Les parties graphiques sont r\u00e9alis\u00e9es avec les librairies Openframeworks.\n",
      "* [OpenFrameworks](http://openframeworks.cc/)\n",
      "* []()\n"
     ]
    },
    {
     "cell_type": "markdown",
     "metadata": {},
     "source": [
      "## Description des algorithmes\n",
      "\n",
      "### Deph First Search\n",
      "### Non Deterministic Search\n",
      "### Greedy Search\n",
      "### Estimate-extended Uniform Cost"
     ]
    },
    {
     "cell_type": "markdown",
     "metadata": {},
     "source": [
      "## Comparaison des r\u00e9sultats\n",
      "\n",
      "### Deph First Search\n",
      "### Non Deterministic Search\n",
      "### Greedy Search\n",
      "### Estimate-extended Uniform Cost"
     ]
    },
    {
     "cell_type": "markdown",
     "metadata": {},
     "source": [
      "## Conclusions"
     ]
    },
    {
     "cell_type": "markdown",
     "metadata": {},
     "source": [
      "#Partie 2 : Algorithmes de jeux de strat\u00e9gie pour deux : Le Jeux du moulin\n",
      "\n",
      "\n"
     ]
    },
    {
     "cell_type": "markdown",
     "metadata": {},
     "source": [
      "## Description du jeu\n",
      "```\n",
      "    From Wikipedia\n",
      "```\n",
      "### Mat\u00e9riel\n",
      "\n",
      "* Un tablier form\u00e9 de trois carr\u00e9s imbriqu\u00e9s offrant vingt-quatre intersections\n",
      "* neuf pions blancs\n",
      "* neuf pions noirs\n",
      "\n",
      "![Le tablier de jeu](plateau.png)\n",
      "\n",
      "\n",
      "\n",
      "### R\u00e8gles du jeu\n",
      "Le jeu se d\u00e9roule en deux temps : la pose puis le mouvement.\n",
      "\n",
      "1. **La pose** :\n",
      "    tant qu'il en poss\u00e8de encore, chaque joueur place \u00e0 tour de r\u00f4le un pion sur une intersection libre.\n",
      "\n",
      "2. **Le mouvement** : \n",
      "    lorsqu'il n'a plus de pion \u00e0 poser, chaque joueur fait glisser l'un de ses pions vers une intersection voisine libre en suivant un chemin pr\u00e9vu.\n",
      "\n",
      "\u00c0 tout moment du jeu, celui qui r\u00e9alise un moulin, c'est-\u00e0-dire l'alignement de trois de ses pions, peut capturer un pion adverse quelconque parmi ceux n'appartenant pas \u00e0 un moulin.\n",
      "\n",
      "Le jeu s'ach\u00e8ve quand un joueur n'a plus que deux pions ou ne peut plus jouer, il est alors le perdant."
     ]
    },
    {
     "cell_type": "markdown",
     "metadata": {},
     "source": [
      "## Outils de d\u00e9veloppement:\n",
      "Le choix des outils de d\u00e9veloppement est le m\u00eame que pour l'exercice pr\u00e9cedent"
     ]
    },
    {
     "cell_type": "markdown",
     "metadata": {},
     "source": [
      "## Description des algorithmes\n",
      "\n",
      "### Min-Max\n",
      "### Alpha-beta\n"
     ]
    },
    {
     "cell_type": "markdown",
     "metadata": {},
     "source": [
      "## Fonction d'\u00e9valuation"
     ]
    },
    {
     "cell_type": "markdown",
     "metadata": {},
     "source": [
      "## Coups d'avance (profondeur)"
     ]
    },
    {
     "cell_type": "markdown",
     "metadata": {},
     "source": [
      "## Conclusions"
     ]
    },
    {
     "cell_type": "markdown",
     "metadata": {},
     "source": [
      "# Partie 3 : Programmation par contraintes\n",
      "\n",
      "## Language et librairies\n",
      "\n",
      "Pour cette partie pratique, le language utilis\u00e9 sera Python. Le module python-constraint nous permettra de mod\u00e9liser des probl\u00e8mes sous forme de variables appartenant a des domaines de valeurs et des contraintes sur ces variables afin de r\u00e9soudres ces probl\u00e8me.\n",
      "\n",
      "## Applications\n",
      "Parmis les \u00e9nonc\u00e9s propos\u00e9s, nous allons en r\u00e9soudre deux. Le probl\u00e8me du zebre, et deux exemples de crypto-arithm\u00e9tique (SEND + MORE = MONEY && DONALD + GERALD = ROBERT)"
     ]
    },
    {
     "cell_type": "markdown",
     "metadata": {},
     "source": [
      "### Le probleme du zebre\n",
      "\n",
      "On s'int\u00e9resse au probl\u00e8me suivant, pos\u00e9 initialement par Lewis Caroll :\n",
      "\n",
      "Cinq maisons cons\u00e9cutives, de couleurs diff\u00e9rentes, sont habit\u00e9es par des hommes de diff\u00e9rentes nationalit\u00e9s. Chacun poss\u00e8de un animal diff\u00e9rent, a une boisson pr\u00e9f\u00e9r\u00e9e diff\u00e9rente et fume des cigarettes diff\u00e9rentes. De plus, on sait que :\n",
      "\n",
      "* Le norv\u00e9gien habite la premi\u00e8re maison,\n",
      "* La maison \u00e0 cot\u00e9 de celle du norv\u00e9gien est bleue,\n",
      "* L'habitant de la troisi\u00e8me maison boit du lait,\n",
      "* L'anglais habite la maison rouge,\n",
      "* L'habitant de la maison verte boit du caf\u00e9,\n",
      "* L'habitant de la maison jaune fume des kools,\n",
      "* La maison blanche se trouve juste apr\u00e8s la verte,\n",
      "* L'espagnol a un chien,\n",
      "* L'ukrainien boit du th\u00e9,\n",
      "* Le japonais fume des cravens,\n",
      "* Le fumeur de old golds a un escargot,\n",
      "* Le fumeur de gitanes boit du vin,\n",
      "* Le voisin du fumeur de Chesterfields a un renard,\n",
      "* Le voisin du fumeur de kools a un cheval.\n",
      "\n",
      "Qui boit de l'eau ? A qui appartient le z\u00e8bre ?\n"
     ]
    },
    {
     "cell_type": "markdown",
     "metadata": {},
     "source": [
      "#### Modelisation du probl\u00e8me\n",
      "\n",
      "La premi\u00e8re \u00e9tape est d'identifier les inconnues du probl\u00e8me (les variables), les contraintes qui leur sont appliqu\u00e9es ainsi que leur domaine de valeur.\n",
      "\n",
      "Nous pouvons d\u00e9terminer le domaine de valeur comme les num\u00e9ro de maison (de 1 \u00e0 5) et les variables comme les caract\u00e9ristiques de ces maison (nationalit\u00e9, marque de cigarette, animal de compagnie, couleur des mur et boisson pr\u00e9f\u00e9r\u00e9e !)\n",
      " \n",
      "Il faut ensuite d\u00e9finir une contrainte pour chacune des assertions de l'\u00e9nonc\u00e9. Il faut \u00e9galement ajouter des contraintes pour sp\u00e9cifier qu'on ne peut avoir plusieurs maisons de la m\u00eame couleur, ni plusieurs maisons avec le m\u00eame animal, ..."
     ]
    },
    {
     "cell_type": "markdown",
     "metadata": {},
     "source": [
      "### Send More Money !\n",
      "On consid\u00e8re l'addition suivante :\n",
      "```\n",
      "       SEND\n",
      "     + MORE\n",
      "    -------\n",
      "    = MONEY\n",
      "```\n",
      "o\u00f9 chaque lettre repr\u00e9sente un chiffre diff\u00e9rent (compris entre 0 et 9). On souhaite connaitre la valeur de chaque lettre, sachant que la premi\u00e8re lettre de chaque mot repr\u00e9sente un chiffre diff\u00e9rent de 0."
     ]
    },
    {
     "cell_type": "markdown",
     "metadata": {},
     "source": [
      "#### Mod\u00e9lisation\n",
      "\n",
      "Pour mod\u00e9liser ce probl\u00e8me sous la forme d'un CSP, il s'agit d'identifier les variables (les inconnues du probl\u00e8me), les domaines de valeur de ces variables, et les contraintes existant entre ces variables.\n",
      "\n",
      "Ici, les inconnues du probl\u00e8me sont les valeurs des lettres S, E, N, D, M, O, R et Y. On a donc 8 variables, chacune pouvant prendre une valeur comprise entre 0 et 9, sauf S et M qui ne peuvent \u00eatre \u00e9gales \u00e0 0 puisqu'elles sont en d\u00e9but de mot.\n",
      "\n",
      "Il s'agit ensuite de d\u00e9finir les contraintes. Une premi\u00e8re possibilit\u00e9 consiste \u00e0 d\u00e9finir une seule contrainte \"traduisant\" l'\u00e9quation SEND + MORE = MONEY. Pour cela, il s'agit de reconstituer le nombre associ\u00e9 \u00e0 chaque mot \u00e0 partir des valeurs des lettres le composant (par exemple, le nombre associ\u00e9 au mot SEND est \u00e9gal \u00e0 D + 10N + 100E + 1000S).\n",
      "\n",
      "Une autre possibilit\u00e9, pour d\u00e9finir les contraintes, consiste \u00e0 poser les contraintes \"verticalement\", comme quand on fait une addition \u00e0 la main :\n",
      "\n",
      "* la somme des chiffres des unit\u00e9s des nombres \u00e0 additionner est \u00e9gale au chiffre des unit\u00e9 du nombre r\u00e9sultat, plus dix fois la retenue ;\n",
      "* la somme de la retenue des unit\u00e9s et des chiffres des dizaines des nombres \u00e0 additionner est \u00e9gale au chiffre des dizaines du nombre r\u00e9sultat, plus dix fois la retenue :\n",
      "    etc...\n",
      "\n",
      "Avec une telle mod\u00e9lisation, il faut rajouter 3 variables R1, R2 et R3 correspondant aux retenues successives, et pouvant prendre pour valeur 0 ou 1 (car la somme de deux chiffres compris entre 0 et 9 est toujours inf\u00e9rieure ou \u00e9gale \u00e0 18).\n",
      "\n",
      "Il faut par ailleurs ajouter une contrainte pour exprimer le fait que toutes les lettres doivent prendre des valeurs diff\u00e9rentes.."
     ]
    },
    {
     "cell_type": "markdown",
     "metadata": {},
     "source": [
      "#### solution\n",
      "\n",
      "```\n",
      "   SEND \t    9567\n",
      " + MORE \t  + 1085\n",
      "------- \t -------\n",
      "= MONEY \t = 10652\n",
      "```"
     ]
    },
    {
     "cell_type": "markdown",
     "metadata": {},
     "source": [
      "### Donald + gerald = robert?\n",
      "\n",
      "#### Solution\n",
      "\n",
      "```\n",
      "  DONALD \t   526485\n",
      "+ GERALD \t + 197485\n",
      "-------- \t --------\n",
      "= ROBERT \t = 723970\n",
      "```"
     ]
    },
    {
     "cell_type": "markdown",
     "metadata": {},
     "source": [
      "## Conclusions"
     ]
    },
    {
     "cell_type": "markdown",
     "metadata": {},
     "source": [
      "# Parie 4 : Exercices annexes"
     ]
    },
    {
     "cell_type": "markdown",
     "metadata": {},
     "source": [
      "## Exercice 1 \u2013 Algorithmes de recherche\n",
      "\n",
      "Voici le probl\u00e8me de r\u00e9seau t\u00e9l\u00e9phonique suivant : Un message doit transiter\n",
      "de la Hongrie (H) \u00e0 la Finlande (F), par le chemin le plus rapide possible.\n",
      "Les poids sur les arcs repr\u00e9sentent les dur\u00e9es de transmission en millisecondes\n",
      "entre les diff\u00e9rents pays. Les poids sur les n\u0153uds repr\u00e9sentent l\u2019heuristique\n",
      "attribu\u00e9e \u00e0 chaque n\u0153ud du r\u00e9seau.\n",
      "1. Utiliser l\u2019algorithme Bi-directional Search sur ce r\u00e9seau, pour trouver le\n",
      "chemin le plus rapide. D\u00e9crire l\u2019\u00e9tat de la file \u00e0 chaque \u00e9tape et montrer\n",
      "dans l\u2019arbre de recherche quel est le chemin emprunt\u00e9 de H \u00e0 F.\n",
      "2. Quelle est la taille de ce chemin en millisecondes ?\n",
      "3. En combien d\u2019\u00e9tapes arrive-t-on \u00e0 la solution ?\n",
      "4. Maintenant, si chaque pays dans le r\u00e9seau prend 2 euros par message t\u00e9l\u00e9phonique qui passe sur son\n",
      "territoire, et que votre unique objectif est d\u2019optimiser le co\u00fbt de vos messages t\u00e9l\u00e9phoniques transitant entre\n",
      "la Hongrie et la Finlande, plus la rapidit\u00e9 de transmission, quel algorithme de recherche devriez-vous utiliser\n",
      "pour atteindre cet objectif?\n",
      "5. Quel serait alors le meilleur chemin \u00e0 prendre ?"
     ]
    },
    {
     "cell_type": "markdown",
     "metadata": {},
     "source": [
      "## Exercice 2 \u2013 Logique floue\n",
      "Vous devez apprendre \u00e0 une machine \u00e0 conduire en agglom\u00e9ration selon vos r\u00e8gles. Pour cela, on consid\u00e8re les\n",
      "variables floues d\u00e9crites graphiquement ci-dessous :\n",
      "* 2 entr\u00e9es : la vitesse (de 35 \u00e0 41 km/h) et la distance par rapport \u00e0 un passage pour pi\u00e9ton (de 1 \u00e0 5, en\n",
      "centaines de m\u00e8tres o\u00f9 1 = 100m et 5 = 500m).\n",
      "* 1 sortie : pourcentage de force sur la p\u00e9dale de frein (de 0 \u00e0 100 % o\u00f9 0 = 0 Newtons et 100% = 50 Newtons).\n",
      "\n",
      "D\u2019apr\u00e8s vous, en vous basant sur les variables floues repr\u00e9sent\u00e9es ci-dessous, si la vitesse de votre v\u00e9hicule est de\n",
      "39.5 km/h et que la distance par rapport au passage pour pi\u00e9ton est de 400m, quelle sera la force \u00e0 appliquer sur\n",
      "la p\u00e9dale de frein en Newtons ? Voici les r\u00e8gles utilis\u00e9es :\n",
      "1. Si votre vitesse est faible ou que votre distance est forte, il faudra appuyer faiblement.\n",
      "2. Si votre vitesse est moyenne et que votre distance est moyenne, il faudra appuyer moyennement.\n",
      "3. Si votre vitesse est moyenne est que votre distance est faible, il faudra appuyer fortement.\n",
      "4. Si votre vitesse est forte et que votre distance est faible, il faudra appuyer fortement.\n",
      "5. Si votre vitesse est forte et que votre distance est forte, il faudra appuyer moyennement.\n",
      "\n",
      "Voici les variables floues \u00e0 votre disposition, de gauche \u00e0 droite : vitesse, distance et pourcentage de force."
     ]
    },
    {
     "cell_type": "markdown",
     "metadata": {},
     "source": [
      "# Bibliographie\n",
      "* [OpenFrameworks](http://openframeworks.cc/) : http://openframeworks.cc/\n",
      "* [python-constraint](http://labix.org/python-constraint) : http://labix.org/python-constraint\n",
      "* [R\u00e8gles du jeu du moulin](http://fr.wikipedia.org/wiki/Jeu_du_moulin) : http://fr.wikipedia.org/wiki/Jeu_du_moulin\n",
      "* [\u00c9nonc\u00e9s des probl\u00e8mes de programmation par cntrainte](http://liris.cnrs.fr/csolnon/Site-PPC/session2/e-miage-ppc-sess2.htm) : http://liris.cnrs.fr/csolnon/Site-PPC/session2/e-miage-ppc-sess2.htm\n",
      "* []()\n",
      "* []()\n",
      "* []()\n",
      "* []()\n"
     ]
    },
    {
     "cell_type": "code",
     "collapsed": false,
     "input": [],
     "language": "python",
     "metadata": {},
     "outputs": [],
     "prompt_number": 10
    }
   ],
   "metadata": {}
  }
 ]
}