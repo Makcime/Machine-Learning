{
 "metadata": {
  "name": "",
  "signature": "sha256:72f63de209c710fbd65ff649b5ec904be94e4019716a73f530f688480c581205"
 },
 "nbformat": 3,
 "nbformat_minor": 0,
 "worksheets": [
  {
   "cells": [
    {
     "cell_type": "code",
     "collapsed": false,
     "input": [
      "from constraint import *"
     ],
     "language": "python",
     "metadata": {},
     "outputs": [],
     "prompt_number": 1
    },
    {
     "cell_type": "markdown",
     "metadata": {},
     "source": [
      "## Exercice 1 - La variante du probleme des 4 maisons\n",
      "\n"
     ]
    },
    {
     "cell_type": "code",
     "collapsed": true,
     "input": [
      "\n",
      "\n",
      "maisons = Problem()\n",
      "maisons.addVariables([\"a\", \"b\", \"c\", \"d\"], [1, 2, 3, 4])\n",
      "maisons.addConstraint(AllDifferentConstraint())\n",
      "maisons.addConstraint(lambda c, d : c > d, [\"c\", \"d\"])\n",
      "maisons.addConstraint(lambda a, d : a - d == 1, [\"a\", \"d\"])\n",
      "maisons.addConstraint(lambda b, d : abs(b - d) > 1, [\"b\", \"d\"])\n",
      "maisons.addConstraint(lambda c: c != 3, [\"c\"])\n",
      "maisons.addConstraint(lambda b: b != 1, [\"b\"])\n",
      "\n",
      "maisons.getSolutions()"
     ],
     "language": "python",
     "metadata": {},
     "outputs": [
      {
       "metadata": {},
       "output_type": "pyout",
       "prompt_number": 2,
       "text": [
        "[{'a': 2, 'b': 3, 'c': 4, 'd': 1}]"
       ]
      }
     ],
     "prompt_number": 2
    },
    {
     "cell_type": "markdown",
     "metadata": {},
     "source": [
      "## Exercice 2 - Le probl\u00e8me des 4 professeurs"
     ]
    },
    {
     "cell_type": "code",
     "collapsed": true,
     "input": [
      "prob = Problem()\n",
      "prob.addVariables([\"a\", \"b\", \"c\", \"d\"], [1, 2, 3, 4, 5])\n",
      "prob.addConstraint(AllDifferentConstraint())\n",
      "prob.addConstraint(lambda a: a != 1, [\"a\"])\n",
      "prob.addConstraint(lambda b: b != 2, [\"b\"])\n",
      "prob.addConstraint(lambda d: d >= 3, [\"d\"])\n",
      "prob.addConstraint(lambda b, d: b > d , [\"b\", \"d\"])\n",
      "prob.addConstraint(lambda c, b: abs(c - b ) > 1, [\"c\", \"b\"])\n",
      "prob.addConstraint(lambda c: c != 5, [\"c\"])\n",
      "\n",
      "prob.getSolutions()"
     ],
     "language": "python",
     "metadata": {},
     "outputs": [
      {
       "metadata": {},
       "output_type": "pyout",
       "prompt_number": 3,
       "text": [
        "[{'a': 2, 'b': 5, 'c': 3, 'd': 4},\n",
        " {'a': 3, 'b': 5, 'c': 2, 'd': 4},\n",
        " {'a': 2, 'b': 5, 'c': 1, 'd': 4},\n",
        " {'a': 3, 'b': 5, 'c': 1, 'd': 4},\n",
        " {'a': 4, 'b': 5, 'c': 2, 'd': 3},\n",
        " {'a': 2, 'b': 5, 'c': 1, 'd': 3},\n",
        " {'a': 4, 'b': 5, 'c': 1, 'd': 3},\n",
        " {'a': 5, 'b': 4, 'c': 2, 'd': 3},\n",
        " {'a': 2, 'b': 4, 'c': 1, 'd': 3},\n",
        " {'a': 5, 'b': 4, 'c': 1, 'd': 3}]"
       ]
      }
     ],
     "prompt_number": 3
    },
    {
     "cell_type": "markdown",
     "metadata": {},
     "source": [
      "## Exercice 3 - Le probl\u00e8me du zebre"
     ]
    },
    {
     "cell_type": "markdown",
     "metadata": {},
     "source": [
      "On s'int\u00e9resse au probl\u00e8me suivant, pos\u00e9 initialement par Lewis Caroll :\n",
      "\n",
      "    Cinq maisons cons\u00e9cutives, de couleurs diff\u00e9rentes, sont habit\u00e9es par des hommes de diff\u00e9rentes nationalit\u00e9s. Chacun poss\u00e8de un animal diff\u00e9rent, a une boisson pr\u00e9f\u00e9r\u00e9e diff\u00e9rente et fume des cigarettes diff\u00e9rentes. De plus, on sait que :\n",
      "\n",
      "        Le norv\u00e9gien habite la premi\u00e8re maison,\n",
      "        La maison \u00e0 cot\u00e9 de celle du norv\u00e9gien est bleue,\n",
      "        L'habitant de la troisi\u00e8me maison boit du lait,\n",
      "        L'anglais habite la maison rouge,\n",
      "        L'habitant de la maison verte boit du caf\u00e9,\n",
      "        L'habitant de la maison jaune fume des kools,\n",
      "        La maison blanche se trouve juste apr\u00e8s la verte,\n",
      "        L'espagnol a un chien,\n",
      "        L'ukrainien boit du th\u00e9,\n",
      "        Le japonais fume des cravens,\n",
      "        Le fumeur de old golds a un escargot,\n",
      "        Le fumeur de gitanes boit du vin,\n",
      "        Le voisin du fumeur de Chesterfields a un renard,\n",
      "        Le voisin du fumeur de kools a un cheval.\n",
      "\n",
      "    Qui boit de l'eau ? A qui appartient le z\u00e8bre ?"
     ]
    },
    {
     "cell_type": "code",
     "collapsed": false,
     "input": [
      "couleurs =  [\n",
      " \"blanche\",\n",
      " \"rouge\",\n",
      " \"verte\",\n",
      " \"jaune\",\n",
      " \"bleue\"]\n",
      "natio = [ \n",
      " \"norvegien\",\n",
      " \"anglais\",\n",
      " \"ukrainien\",\n",
      " \"japonais\",\n",
      " \"espagnol\"]\n",
      "animals = [\n",
      " \"cheval\",\n",
      " \"renard\",\n",
      " \"zebre\",\n",
      " \"escargot\",\n",
      " \"chien\"]\n",
      "boissons = [\n",
      " \"the\",\n",
      " \"eau\",\n",
      " \"lait\",\n",
      " \"cafe\",\n",
      " \"vin\"]\n",
      "cigs =  [\n",
      " \"kools\",\n",
      " \"chesterfields\",\n",
      " \"old_golds\",\n",
      " \"cravens\",\n",
      " \"gitanes\"]"
     ],
     "language": "python",
     "metadata": {
      "slideshow": {
       "slide_type": "slide"
      }
     },
     "outputs": [],
     "prompt_number": 4
    },
    {
     "cell_type": "code",
     "collapsed": false,
     "input": [
      "prob = Problem()\n",
      "prob.addVariables([ \n",
      " \"blanche\",\n",
      " \"rouge\",\n",
      " \"verte\",\n",
      " \"jaune\",\n",
      " \"bleue\",\n",
      " \"norvegien\",\n",
      " \"anglais\",\n",
      " \"ukrainien\",\n",
      " \"japonais\",\n",
      " \"espagnol\",\n",
      " \"cheval\",\n",
      " \"renard\",\n",
      " \"zebre\",\n",
      " \"escargot\",\n",
      " \"chien\",\n",
      " \"the\",\n",
      " \"eau\",\n",
      " \"lait\",\n",
      " \"cafe\",\n",
      " \"vin\",\n",
      " \"kools\",\n",
      " \"chesterfields\",\n",
      " \"old_golds\",\n",
      " \"cravens\",\n",
      " \"gitanes\"], [1, 2, 3, 4, 5])"
     ],
     "language": "python",
     "metadata": {
      "slideshow": {
       "slide_type": "slide"
      }
     },
     "outputs": [],
     "prompt_number": 5
    },
    {
     "cell_type": "code",
     "collapsed": false,
     "input": [
      "prob.addConstraint(lambda norvegien: norvegien == 1, [\"norvegien\"])\n",
      "prob.addConstraint(lambda bleue, norvegien: bleue == norvegien + 1 , [\"bleue\",\"norvegien\"])\n",
      "prob.addConstraint(lambda lait: lait == 3, [\"lait\"])\n",
      "prob.addConstraint(lambda anglais, rouge: anglais == rouge, [\"anglais\", \"rouge\"])\n",
      "prob.addConstraint(lambda verte, cafe: verte == cafe, [\"verte\", \"cafe\"])\n",
      "prob.addConstraint(lambda jaune, kools: jaune == kools, [\"jaune\", \"kools\"])\n",
      "prob.addConstraint(lambda blanche, verte: blanche == verte + 1, [\"blanche\", \"verte\"])\n",
      "prob.addConstraint(lambda espagnol, chien: espagnol == chien, [\"espagnol\", \"chien\"])\n",
      "prob.addConstraint(lambda ukrainien, the: ukrainien == the, [\"ukrainien\", \"the\"])\n",
      "prob.addConstraint(lambda japonais, cravens: japonais == cravens, [\"japonais\", \"cravens\"])\n",
      "prob.addConstraint(lambda old_golds, escargot: old_golds == escargot, [\"old_golds\", \"escargot\"])\n",
      "prob.addConstraint(lambda gitanes, vin: gitanes == vin, [\"gitanes\", \"vin\"])\n",
      "prob.addConstraint(lambda chesterfields, renard: chesterfields == renard - 1 or chesterfields == renard + 1, [\"chesterfields\", \"renard\"])\n",
      "prob.addConstraint(lambda kools, cheval: kools == cheval - 1 or kools == cheval + 1, [\"kools\", \"cheval\"])"
     ],
     "language": "python",
     "metadata": {
      "slideshow": {
       "slide_type": "slide"
      }
     },
     "outputs": [],
     "prompt_number": 7
    },
    {
     "cell_type": "code",
     "collapsed": false,
     "input": [
      "prob.addConstraint(AllDifferentConstraint(), [\"blanche\", \"rouge\", \"verte\", \"jaune\", \"bleue\"])\n",
      "prob.addConstraint(AllDifferentConstraint(), [\"the\", \"eau\", \"lait\", \"cafe\", \"vin\"])\n",
      "prob.addConstraint(AllDifferentConstraint(), [\"norvegien\", \"anglais\", \"ukrainien\", \"japonais\", \"espagnol\"])\n",
      "prob.addConstraint(AllDifferentConstraint(), [\"cheval\", \"renard\", \"zebre\", \"escargot\", \"chien\"])\n",
      "prob.addConstraint(AllDifferentConstraint(), [\"kools\", \"chesterfields\", \"old_golds\", \"cravens\", \"gitanes\"])"
     ],
     "language": "python",
     "metadata": {
      "slideshow": {
       "slide_type": "subslide"
      }
     },
     "outputs": [],
     "prompt_number": 8
    },
    {
     "cell_type": "code",
     "collapsed": false,
     "input": [
      "solution = prob.getSolution()\n",
      "prob.getSolution()\n",
      "alls = prob.getSolutions()\n"
     ],
     "language": "python",
     "metadata": {
      "slideshow": {
       "slide_type": "slide"
      }
     },
     "outputs": [],
     "prompt_number": 11
    },
    {
     "cell_type": "code",
     "collapsed": false,
     "input": [
      "def affichersolution(sol):\n",
      "    sortedsol = []\n",
      "    for i in range(1,6):\n",
      "        comb = []\n",
      "        for var in sol:\n",
      "            if sol[var] == i and var in natio:\n",
      "                comb.append(var)\n",
      "        for var in sol:\n",
      "            if sol[var] == i and var in animals:\n",
      "                comb.append(var)\n",
      "        for var in sol:\n",
      "            if sol[var] == i and var in boissons:\n",
      "                comb.append(var)\n",
      "        for var in sol:\n",
      "            if sol[var] == i and var in cigs:\n",
      "                comb.append(var)\n",
      "        for var in sol:\n",
      "            if sol[var] == i and var in couleurs:\n",
      "                comb.append(var)\n",
      "        # print comb\n",
      "        sortedsol.append(comb)\n",
      "    \n",
      "    print ''\n",
      "    for nat, an, bois, ci, coul in sortedsol:\n",
      "        print \"La maison\", coul, \"est habit\u00e9e par un\", an,\"et un\", nat,\"qui bois du\" , bois, \"et fume des\", ci "
     ],
     "language": "python",
     "metadata": {
      "slideshow": {
       "slide_type": "skip"
      }
     },
     "outputs": [],
     "prompt_number": 13
    },
    {
     "cell_type": "code",
     "collapsed": false,
     "input": [
      "affichersolution(solution)"
     ],
     "language": "python",
     "metadata": {
      "slideshow": {
       "slide_type": "slide"
      }
     },
     "outputs": [
      {
       "output_type": "stream",
       "stream": "stdout",
       "text": [
        "\n",
        "La maison jaune est habit\u00e9e par un renard et un norvegien qui bois du eau et fume des kools\n",
        "La maison bleue est habit\u00e9e par un cheval et un ukrainien qui bois du the et fume des chesterfields\n",
        "La maison rouge est habit\u00e9e par un escargot et un anglais qui bois du lait et fume des old_golds\n",
        "La maison verte est habit\u00e9e par un zebre et un japonais qui bois du cafe et fume des cravens\n",
        "La maison blanche est habit\u00e9e par un chien et un espagnol qui bois du vin et fume des gitanes\n"
       ]
      }
     ],
     "prompt_number": 10
    },
    {
     "cell_type": "code",
     "collapsed": false,
     "input": [
      "for s in alls:\n",
      "    affichersolution(s)"
     ],
     "language": "python",
     "metadata": {
      "slideshow": {
       "slide_type": "subslide"
      }
     },
     "outputs": [
      {
       "output_type": "stream",
       "stream": "stdout",
       "text": [
        "\n",
        "La maison jaune est habit\u00e9e par un renard et un norvegien qui bois du eau et fume des kools\n",
        "La maison bleue est habit\u00e9e par un cheval et un ukrainien qui bois du the et fume des chesterfields\n",
        "La maison rouge est habit\u00e9e par un escargot et un anglais qui bois du lait et fume des old_golds\n",
        "La maison verte est habit\u00e9e par un zebre et un japonais qui bois du cafe et fume des cravens\n",
        "La maison blanche est habit\u00e9e par un chien et un espagnol qui bois du vin et fume des gitanes\n"
       ]
      }
     ],
     "prompt_number": 11
    },
    {
     "cell_type": "markdown",
     "metadata": {},
     "source": [
      "## Exercice 4 : Send more money !"
     ]
    },
    {
     "cell_type": "markdown",
     "metadata": {},
     "source": [
      "On consid\u00e8re l'addition suivante :\n",
      "\n",
      "       SEND\n",
      "     + MORE\n",
      "    -------\n",
      "    = MONEY\n",
      "\n",
      "o\u00f9 chaque lettre repr\u00e9sente un chiffre diff\u00e9rent (compris entre 0 et 9). On souhaite connaitre la valeur de chaque lettre, sachant que la premi\u00e8re lettre de chaque mot repr\u00e9sente un chiffre diff\u00e9rent de 0."
     ]
    },
    {
     "cell_type": "code",
     "collapsed": false,
     "input": [
      "prob = Problem()\n",
      "prob.addVariables([ \n",
      " \"S\",\n",
      " \"E\",\n",
      " \"N\",\n",
      " \"D\",\n",
      " \"M\",\n",
      " \"O\",\n",
      " \"R\",\n",
      " \"Y\"], [0,1,2,3,4,5,6,7,8,9])"
     ],
     "language": "python",
     "metadata": {},
     "outputs": [],
     "prompt_number": 12
    },
    {
     "cell_type": "code",
     "collapsed": false,
     "input": [
      "prob.addConstraint(AllDifferentConstraint())\n",
      "prob.addConstraint(lambda S, M: S != 0 and M != 0, [\"S\", \"M\"]) \n"
     ],
     "language": "python",
     "metadata": {},
     "outputs": [],
     "prompt_number": 13
    },
    {
     "cell_type": "code",
     "collapsed": false,
     "input": [
      "prob.addConstraint(lambda S, E, N, D, M, O, R, Y: \n",
      "                   1000*S + 100*E + 10*N + D +1000*M + 100*O + 10*R + E == 10000*M + 1000*O + 100*N + 10*E + Y, \n",
      "                   [\"S\", \"E\", \"N\", \"D\", \"M\", \"O\", \"R\", \"Y\"])\n"
     ],
     "language": "python",
     "metadata": {},
     "outputs": [],
     "prompt_number": 14
    },
    {
     "cell_type": "code",
     "collapsed": false,
     "input": [
      "prob.addConstraint(lambda S, M: S + M >= 10, [\"S\", \"M\"])"
     ],
     "language": "python",
     "metadata": {},
     "outputs": [],
     "prompt_number": 15
    },
    {
     "cell_type": "code",
     "collapsed": false,
     "input": [
      "import time\n",
      "\n",
      "start = time.time()\n",
      "sol = prob.getSolution()\n",
      "stop = time.time()\n",
      "\n",
      "print \"temps de calcul = %.3f secondes\" % (stop - start)\n"
     ],
     "language": "python",
     "metadata": {},
     "outputs": [
      {
       "ename": "KeyError",
       "evalue": "'S'",
       "output_type": "pyerr",
       "traceback": [
        "\u001b[0;31m---------------------------------------------------------------------------\u001b[0m\n\u001b[0;31mKeyError\u001b[0m                                  Traceback (most recent call last)",
        "\u001b[0;32m<ipython-input-17-cbad33601924>\u001b[0m in \u001b[0;36m<module>\u001b[0;34m()\u001b[0m\n\u001b[1;32m      2\u001b[0m \u001b[0;34m\u001b[0m\u001b[0m\n\u001b[1;32m      3\u001b[0m \u001b[0mstart\u001b[0m \u001b[0;34m=\u001b[0m \u001b[0mtime\u001b[0m\u001b[0;34m.\u001b[0m\u001b[0mtime\u001b[0m\u001b[0;34m(\u001b[0m\u001b[0;34m)\u001b[0m\u001b[0;34m\u001b[0m\u001b[0m\n\u001b[0;32m----> 4\u001b[0;31m \u001b[0msol\u001b[0m \u001b[0;34m=\u001b[0m \u001b[0mprob\u001b[0m\u001b[0;34m.\u001b[0m\u001b[0mgetSolution\u001b[0m\u001b[0;34m(\u001b[0m\u001b[0;34m)\u001b[0m\u001b[0;34m\u001b[0m\u001b[0m\n\u001b[0m\u001b[1;32m      5\u001b[0m \u001b[0mstop\u001b[0m \u001b[0;34m=\u001b[0m \u001b[0mtime\u001b[0m\u001b[0;34m.\u001b[0m\u001b[0mtime\u001b[0m\u001b[0;34m(\u001b[0m\u001b[0;34m)\u001b[0m\u001b[0;34m\u001b[0m\u001b[0m\n\u001b[1;32m      6\u001b[0m \u001b[0;34m\u001b[0m\u001b[0m\n",
        "\u001b[0;32m/usr/local/lib/python2.7/dist-packages/constraint.pyc\u001b[0m in \u001b[0;36mgetSolution\u001b[0;34m(self)\u001b[0m\n\u001b[1;32m    216\u001b[0m         \u001b[0;34m@\u001b[0m\u001b[0mrtype\u001b[0m\u001b[0;34m:\u001b[0m \u001b[0mdictionary\u001b[0m \u001b[0mmapping\u001b[0m \u001b[0mvariables\u001b[0m \u001b[0mto\u001b[0m \u001b[0mvalues\u001b[0m\u001b[0;34m\u001b[0m\u001b[0m\n\u001b[1;32m    217\u001b[0m         \"\"\"\n\u001b[0;32m--> 218\u001b[0;31m         \u001b[0mdomains\u001b[0m\u001b[0;34m,\u001b[0m \u001b[0mconstraints\u001b[0m\u001b[0;34m,\u001b[0m \u001b[0mvconstraints\u001b[0m \u001b[0;34m=\u001b[0m \u001b[0mself\u001b[0m\u001b[0;34m.\u001b[0m\u001b[0m_getArgs\u001b[0m\u001b[0;34m(\u001b[0m\u001b[0;34m)\u001b[0m\u001b[0;34m\u001b[0m\u001b[0m\n\u001b[0m\u001b[1;32m    219\u001b[0m         \u001b[0;32mif\u001b[0m \u001b[0;32mnot\u001b[0m \u001b[0mdomains\u001b[0m\u001b[0;34m:\u001b[0m\u001b[0;34m\u001b[0m\u001b[0m\n\u001b[1;32m    220\u001b[0m             \u001b[0;32mreturn\u001b[0m \u001b[0mNone\u001b[0m\u001b[0;34m\u001b[0m\u001b[0m\n",
        "\u001b[0;32m/usr/local/lib/python2.7/dist-packages/constraint.pyc\u001b[0m in \u001b[0;36m_getArgs\u001b[0;34m(self)\u001b[0m\n\u001b[1;32m    279\u001b[0m         \u001b[0;32mfor\u001b[0m \u001b[0mconstraint\u001b[0m\u001b[0;34m,\u001b[0m \u001b[0mvariables\u001b[0m \u001b[0;32min\u001b[0m \u001b[0mconstraints\u001b[0m\u001b[0;34m:\u001b[0m\u001b[0;34m\u001b[0m\u001b[0m\n\u001b[1;32m    280\u001b[0m             \u001b[0;32mfor\u001b[0m \u001b[0mvariable\u001b[0m \u001b[0;32min\u001b[0m \u001b[0mvariables\u001b[0m\u001b[0;34m:\u001b[0m\u001b[0;34m\u001b[0m\u001b[0m\n\u001b[0;32m--> 281\u001b[0;31m                 \u001b[0mvconstraints\u001b[0m\u001b[0;34m[\u001b[0m\u001b[0mvariable\u001b[0m\u001b[0;34m]\u001b[0m\u001b[0;34m.\u001b[0m\u001b[0mappend\u001b[0m\u001b[0;34m(\u001b[0m\u001b[0;34m(\u001b[0m\u001b[0mconstraint\u001b[0m\u001b[0;34m,\u001b[0m \u001b[0mvariables\u001b[0m\u001b[0;34m)\u001b[0m\u001b[0;34m)\u001b[0m\u001b[0;34m\u001b[0m\u001b[0m\n\u001b[0m\u001b[1;32m    282\u001b[0m         \u001b[0;32mfor\u001b[0m \u001b[0mconstraint\u001b[0m\u001b[0;34m,\u001b[0m \u001b[0mvariables\u001b[0m \u001b[0;32min\u001b[0m \u001b[0mconstraints\u001b[0m\u001b[0;34m[\u001b[0m\u001b[0;34m:\u001b[0m\u001b[0;34m]\u001b[0m\u001b[0;34m:\u001b[0m\u001b[0;34m\u001b[0m\u001b[0m\n\u001b[1;32m    283\u001b[0m             constraint.preProcess(variables, domains,\n",
        "\u001b[0;31mKeyError\u001b[0m: 'S'"
       ]
      }
     ],
     "prompt_number": 17
    },
    {
     "cell_type": "code",
     "collapsed": false,
     "input": [
      "print \"   SEND \\t    %d%d%d%d\" % (sol[\"S\"], sol[\"E\"], sol[\"N\"], sol[\"D\"])\n",
      "print \" + MORE \\t  + %d%d%d%d\" % (sol[\"M\"], sol[\"O\"], sol[\"R\"], sol[\"E\"])\n",
      "print \"------- \\t -------\"\n",
      "print \"= MONEY \\t = %d%d%d%d%d\" % (sol[\"M\"], sol[\"O\"], sol[\"N\"], sol[\"E\"], sol[\"Y\"])"
     ],
     "language": "python",
     "metadata": {},
     "outputs": [
      {
       "output_type": "stream",
       "stream": "stdout",
       "text": [
        "   SEND \t    9567\n",
        " + MORE \t  + 1085\n",
        "------- \t -------\n",
        "= MONEY \t = 10652\n"
       ]
      }
     ],
     "prompt_number": 17
    },
    {
     "cell_type": "markdown",
     "metadata": {},
     "source": [
      "## Exercice 4 : Donald + gerald = robert?"
     ]
    },
    {
     "cell_type": "code",
     "collapsed": false,
     "input": [
      "prob = Problem()\n",
      "prob.addVariables([ \n",
      " \"D\",\n",
      " \"O\",\n",
      " \"N\",\n",
      " \"A\",\n",
      " \"L\",\n",
      " \"G\",\n",
      " \"E\",\n",
      " \"R\",\n",
      " \"B\",\n",
      " \"T\"], [0,1,2,3,4,5,6,7,8,9])"
     ],
     "language": "python",
     "metadata": {},
     "outputs": [],
     "prompt_number": 18
    },
    {
     "cell_type": "code",
     "collapsed": false,
     "input": [
      "prob.addConstraint(AllDifferentConstraint())\n",
      "prob.addConstraint(lambda D, G, R: D != 0 and G != 0 and R != 0, [\"D\", \"G\", \"R\"]) "
     ],
     "language": "python",
     "metadata": {},
     "outputs": [],
     "prompt_number": 19
    },
    {
     "cell_type": "code",
     "collapsed": false,
     "input": [
      "prob.addConstraint(lambda D, O, N, A, L, G, E, R, B, T: \n",
      "                   100000*D + 10000*O + 1000*N + 100*A + 10*L + D + 100000*G + 10000*E + 1000*R + 100*A + 10*L + D\n",
      "                   == 100000*R + 10000*O + 1000*B + 100*E + 10*R + T, \n",
      "                   [\"D\", \"O\", \"N\", \"A\", \"L\", \"G\", \"E\", \"R\", \"B\", \"T\"])"
     ],
     "language": "python",
     "metadata": {},
     "outputs": [],
     "prompt_number": 20
    },
    {
     "cell_type": "code",
     "collapsed": false,
     "input": [
      "prob.addConstraint(lambda D, G: D + G < 10, [\"D\", \"G\"])\n",
      "prob.addConstraint(lambda T: T % 2 == 0, [\"T\"])\n"
     ],
     "language": "python",
     "metadata": {},
     "outputs": [],
     "prompt_number": 21
    },
    {
     "cell_type": "code",
     "collapsed": false,
     "input": [
      "start = time.time()\n",
      "sol = prob.getSolution()\n",
      "stop = time.time()\n",
      "\n",
      "print \"temps de calcul = %.3f secondes\" % (stop - start)"
     ],
     "language": "python",
     "metadata": {},
     "outputs": [
      {
       "output_type": "stream",
       "stream": "stdout",
       "text": [
        "temps de calcul = 5.449 secondes\n"
       ]
      }
     ],
     "prompt_number": 22
    },
    {
     "cell_type": "code",
     "collapsed": false,
     "input": [
      "print \"  DONALD \\t   %d%d%d%d%d%d\" % (sol[\"D\"], sol[\"O\"], sol[\"N\"], sol[\"A\"], sol[\"L\"], sol[\"D\"])\n",
      "print \"+ GERALD \\t + %d%d%d%d%d%d\" % (sol[\"G\"], sol[\"E\"], sol[\"R\"], sol[\"A\"], sol[\"L\"], sol[\"D\"])\n",
      "print \"-------- \\t --------\"\n",
      "print \"= ROBERT \\t = %d%d%d%d%d%d\" % (sol[\"R\"], sol[\"O\"], sol[\"B\"], sol[\"E\"], sol[\"R\"], sol[\"T\"])"
     ],
     "language": "python",
     "metadata": {},
     "outputs": [
      {
       "output_type": "stream",
       "stream": "stdout",
       "text": [
        "  DONALD \t   526485\n",
        "+ GERALD \t + 197485\n",
        "-------- \t --------\n",
        "= ROBERT \t = 723970\n"
       ]
      }
     ],
     "prompt_number": 23
    },
    {
     "cell_type": "code",
     "collapsed": false,
     "input": [],
     "language": "python",
     "metadata": {},
     "outputs": [],
     "prompt_number": 23
    }
   ],
   "metadata": {}
  }
 ]
}