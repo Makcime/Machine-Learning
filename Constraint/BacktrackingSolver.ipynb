{
 "metadata": {
  "name": ""
 },
 "nbformat": 3,
 "nbformat_minor": 0,
 "worksheets": [
  {
   "cells": [
    {
     "cell_type": "code",
     "collapsed": false,
     "input": [
      "from constraint import *"
     ],
     "language": "python",
     "metadata": {},
     "outputs": [],
     "prompt_number": 16
    },
    {
     "cell_type": "code",
     "collapsed": false,
     "input": [
      "prob = Problem(BacktrackingSolver())\n",
      "prob.addVariables([ \n",
      " \"S\",\n",
      " \"E\",\n",
      " \"N\",\n",
      " \"D\",\n",
      " \"M\",\n",
      " \"O\",\n",
      " \"R\",\n",
      " \"Y\"], [0,1,2,3,4,5,6,7,8,9])"
     ],
     "language": "python",
     "metadata": {},
     "outputs": [],
     "prompt_number": 17
    },
    {
     "cell_type": "code",
     "collapsed": false,
     "input": [
      "prob.addConstraint(AllDifferentConstraint())\n",
      "prob.addConstraint(lambda S, M: S != 0 and M != 0, [\"S\", \"M\"]) \n"
     ],
     "language": "python",
     "metadata": {},
     "outputs": [],
     "prompt_number": 18
    },
    {
     "cell_type": "code",
     "collapsed": false,
     "input": [
      "prob.addConstraint(lambda S, E, N, D, M, O, R, Y: \n",
      "                   1000*S + 100*E + 10*N + D +1000*M + 100*O + 10*R + E == 10000*M + 1000*O + 100*N + 10*E + Y, \n",
      "                   [\"S\", \"E\", \"N\", \"D\", \"M\", \"O\", \"R\", \"Y\"])\n"
     ],
     "language": "python",
     "metadata": {},
     "outputs": [],
     "prompt_number": 19
    },
    {
     "cell_type": "code",
     "collapsed": false,
     "input": [
      "prob.addConstraint(lambda S, M: S + M >= 10, [\"S\", \"M\"])"
     ],
     "language": "python",
     "metadata": {},
     "outputs": [],
     "prompt_number": 20
    },
    {
     "cell_type": "code",
     "collapsed": false,
     "input": [
      "import time\n",
      "\n",
      "start = time.time()\n",
      "sol = prob.getSolution()\n",
      "stop = time.time()\n",
      "\n",
      "print \"temps de calcul = %.3f secondes\" % (stop - start)\n"
     ],
     "language": "python",
     "metadata": {},
     "outputs": [
      {
       "output_type": "stream",
       "stream": "stdout",
       "text": [
        "temps de calcul = 7.485 secondes\n"
       ]
      }
     ],
     "prompt_number": 24
    },
    {
     "cell_type": "code",
     "collapsed": false,
     "input": [
      "print \"   SEND \\t    %d%d%d%d\" % (sol[\"S\"], sol[\"E\"], sol[\"N\"], sol[\"D\"])\n",
      "print \" + MORE \\t  + %d%d%d%d\" % (sol[\"M\"], sol[\"O\"], sol[\"R\"], sol[\"E\"])\n",
      "print \"------- \\t -------\"\n",
      "print \"= MONEY \\t = %d%d%d%d%d\" % (sol[\"M\"], sol[\"O\"], sol[\"N\"], sol[\"E\"], sol[\"Y\"])"
     ],
     "language": "python",
     "metadata": {},
     "outputs": [
      {
       "output_type": "stream",
       "stream": "stdout",
       "text": [
        "   SEND \t    9567\n",
        " + MORE \t  + 1085\n",
        "------- \t -------\n",
        "= MONEY \t = 10652\n"
       ]
      }
     ],
     "prompt_number": 22
    },
    {
     "cell_type": "code",
     "collapsed": false,
     "input": [],
     "language": "python",
     "metadata": {},
     "outputs": [],
     "prompt_number": 22
    }
   ],
   "metadata": {}
  }
 ]
}